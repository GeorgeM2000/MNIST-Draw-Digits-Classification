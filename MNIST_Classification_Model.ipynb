{
  "nbformat": 4,
  "nbformat_minor": 0,
  "metadata": {
    "colab": {
      "name": "MNIST_Classification_Model.ipynb",
      "provenance": [],
      "collapsed_sections": []
    },
    "kernelspec": {
      "name": "python3",
      "display_name": "Python 3"
    },
    "language_info": {
      "name": "python"
    }
  },
  "cells": [
    {
      "cell_type": "code",
      "metadata": {
        "id": "M20AX3uR7-5D"
      },
      "source": [
        "try:\n",
        "  %tensorflow_version 2.x\n",
        "except Exception:\n",
        "  pass"
      ],
      "execution_count": 1,
      "outputs": []
    },
    {
      "cell_type": "code",
      "metadata": {
        "id": "P6tuVVCN8sRm"
      },
      "source": [
        "# Libraries\n",
        "import tensorflow as tf\n",
        "import pathlib\n",
        "from tqdm import tqdm\n",
        "import matplotlib.pylab as plt"
      ],
      "execution_count": 3,
      "outputs": []
    },
    {
      "cell_type": "code",
      "metadata": {
        "id": "zVjDCH64MdWO",
        "colab": {
          "base_uri": "https://localhost:8080/"
        },
        "outputId": "b0f1c21a-56cb-4530-db34-642aa0696cb3"
      },
      "source": [
        "mnist = tf.keras.datasets.mnist  \n",
        "\n",
        "(training_images, training_labels), (val_images, val_labels) = mnist.load_data()    # Load MNIST dataset\n",
        "\n",
        "# Reshape and alter the pixel values of the data\n",
        "training_images=training_images.reshape(60000, 28, 28, 1)\n",
        "training_images=training_images / 255.0\n",
        "val_images=val_images.reshape(10000, 28, 28, 1)\n",
        "val_images=val_images/255.0\n",
        "\n",
        "# Alter the training set images\n",
        "for train in range(len(training_images)):\n",
        "  for row in range(28):\n",
        "    for cell in range(28):\n",
        "      if training_images[train][row][cell][0] != 0:\n",
        "        training_images[train][row][cell][0] = 1\n",
        "        \n",
        "# alter the validation set images\n",
        "for val in range(len(val_images)):\n",
        "  for row in range(28):\n",
        "    for cell in range(28):\n",
        "      if val_images[val][row][cell][0] != 0:\n",
        "        val_images[val][row][cell][0] = 1"
      ],
      "execution_count": 4,
      "outputs": [
        {
          "output_type": "stream",
          "text": [
            "Downloading data from https://storage.googleapis.com/tensorflow/tf-keras-datasets/mnist.npz\n",
            "11493376/11490434 [==============================] - 0s 0us/step\n"
          ],
          "name": "stdout"
        }
      ]
    },
    {
      "cell_type": "code",
      "metadata": {
        "colab": {
          "base_uri": "https://localhost:8080/"
        },
        "id": "744uhXqU9KD9",
        "outputId": "1b20fa4b-5b40-4ccf-d0f5-a7a5a5d44f3e"
      },
      "source": [
        "\n",
        "# Build the model\n",
        "model = tf.keras.models.Sequential([\n",
        "            tf.keras.layers.Flatten(),\n",
        "            tf.keras.layers.Dense(128, activation='relu'),\n",
        "            tf.keras.layers.Dense(128, activation='relu'),\n",
        "            tf.keras.layers.Dense(10, activation='softmax')                           \n",
        "])\n",
        "\n",
        "# define and instantiate your custom Callback\n",
        "class myCallback(tf.keras.callbacks.Callback):\n",
        "  def on_epoch_end(self, epoch, logs={}):\n",
        "    if( logs.get('val_accuracy') > 0.99 or epoch >= 10):\n",
        "      self.model.stop_training = True\n",
        "callbacks = myCallback()\n",
        "\n",
        "# Compile the model\n",
        "model.compile(optimizer = tf.keras.optimizers.Adam(learning_rate=0.001), loss = tf.keras.losses.SparseCategoricalCrossentropy(from_logits=True), metrics=['accuracy'])\n",
        "\n",
        "# Fit the model\n",
        "model.fit(training_images, training_labels, validation_data=(val_images, val_labels), epochs=20, callbacks=[callbacks])\n",
        "\n"
      ],
      "execution_count": 23,
      "outputs": [
        {
          "output_type": "stream",
          "text": [
            "Epoch 1/10\n"
          ],
          "name": "stdout"
        },
        {
          "output_type": "stream",
          "text": [
            "/usr/local/lib/python3.7/dist-packages/tensorflow/python/keras/backend.py:4930: UserWarning: \"`sparse_categorical_crossentropy` received `from_logits=True`, but the `output` argument was produced by a sigmoid or softmax activation and thus does not represent logits. Was this intended?\"\n",
            "  '\"`sparse_categorical_crossentropy` received `from_logits=True`, but '\n"
          ],
          "name": "stderr"
        },
        {
          "output_type": "stream",
          "text": [
            "1875/1875 [==============================] - 6s 3ms/step - loss: 0.2825 - accuracy: 0.9137 - val_loss: 0.1394 - val_accuracy: 0.9586\n",
            "Epoch 2/10\n",
            "1875/1875 [==============================] - 5s 3ms/step - loss: 0.1317 - accuracy: 0.9595 - val_loss: 0.1169 - val_accuracy: 0.9646\n",
            "Epoch 3/10\n",
            "1875/1875 [==============================] - 5s 3ms/step - loss: 0.0970 - accuracy: 0.9699 - val_loss: 0.1081 - val_accuracy: 0.9673\n",
            "Epoch 4/10\n",
            "1875/1875 [==============================] - 5s 3ms/step - loss: 0.0800 - accuracy: 0.9749 - val_loss: 0.0993 - val_accuracy: 0.9712\n",
            "Epoch 5/10\n",
            "1875/1875 [==============================] - 5s 3ms/step - loss: 0.0665 - accuracy: 0.9777 - val_loss: 0.1102 - val_accuracy: 0.9673\n",
            "Epoch 6/10\n",
            "1875/1875 [==============================] - 5s 3ms/step - loss: 0.0553 - accuracy: 0.9822 - val_loss: 0.0945 - val_accuracy: 0.9734\n",
            "Epoch 7/10\n",
            "1875/1875 [==============================] - 5s 3ms/step - loss: 0.0484 - accuracy: 0.9841 - val_loss: 0.0962 - val_accuracy: 0.9747\n",
            "Epoch 8/10\n",
            "1875/1875 [==============================] - 5s 3ms/step - loss: 0.0443 - accuracy: 0.9855 - val_loss: 0.1057 - val_accuracy: 0.9725\n",
            "Epoch 9/10\n",
            "1875/1875 [==============================] - 5s 3ms/step - loss: 0.0378 - accuracy: 0.9872 - val_loss: 0.1094 - val_accuracy: 0.9721\n",
            "Epoch 10/10\n",
            "1875/1875 [==============================] - 5s 3ms/step - loss: 0.0341 - accuracy: 0.9883 - val_loss: 0.1122 - val_accuracy: 0.9722\n"
          ],
          "name": "stdout"
        },
        {
          "output_type": "stream",
          "text": [
            "Exception ignored in: <function IteratorResourceDeleter.__del__ at 0x7f76f51c7950>\n",
            "Traceback (most recent call last):\n",
            "  File \"/usr/local/lib/python3.7/dist-packages/tensorflow/python/data/ops/iterator_ops.py\", line 546, in __del__\n",
            "    handle=self._handle, deleter=self._deleter)\n",
            "  File \"/usr/local/lib/python3.7/dist-packages/tensorflow/python/ops/gen_dataset_ops.py\", line 1264, in delete_iterator\n",
            "    _ctx, \"DeleteIterator\", name, handle, deleter)\n",
            "KeyboardInterrupt: \n"
          ],
          "name": "stderr"
        },
        {
          "output_type": "execute_result",
          "data": {
            "text/plain": [
              "<tensorflow.python.keras.callbacks.History at 0x7f76d5815b90>"
            ]
          },
          "metadata": {
            "tags": []
          },
          "execution_count": 23
        }
      ]
    },
    {
      "cell_type": "code",
      "metadata": {
        "colab": {
          "base_uri": "https://localhost:8080/"
        },
        "id": "LFjIK5tgcSJ_",
        "outputId": "270af0e1-a0c7-468c-b966-9d5566d4376e"
      },
      "source": [
        "# Save the model\n",
        "MNIST_MODEL = \"exp_saved_model\"\n",
        "tf.saved_model.save(model, MNIST_MODEL)"
      ],
      "execution_count": 8,
      "outputs": [
        {
          "output_type": "stream",
          "text": [
            "WARNING:tensorflow:FOR KERAS USERS: The object that you are saving contains one or more Keras models or layers. If you are loading the SavedModel with `tf.keras.models.load_model`, continue reading (otherwise, you may ignore the following instructions). Please change your code to save with `tf.keras.models.save_model` or `model.save`, and confirm that the file \"keras.metadata\" exists in the export directory. In the future, Keras will only load the SavedModels that have this file. In other words, `tf.saved_model.save` will no longer write SavedModels that can be recovered as Keras models (this will apply in TF 2.5).\n",
            "\n",
            "FOR DEVS: If you are overwriting _tracking_metadata in your class, this property has been used to save metadata in the SavedModel. The metadta field will be deprecated soon, so please move the metadata to a different file.\n",
            "INFO:tensorflow:Assets written to: exp_saved_model/assets\n"
          ],
          "name": "stdout"
        }
      ]
    },
    {
      "cell_type": "code",
      "metadata": {
        "colab": {
          "base_uri": "https://localhost:8080/"
        },
        "id": "fwxT3VPpcgVO",
        "outputId": "0bfabe60-ccd5-450d-99fa-650fbac4382e"
      },
      "source": [
        "converter = tf.lite.TFLiteConverter.from_saved_model(MNIST_MODEL)\n",
        "\n",
        "# Uncomment to optimize with quantization aware training\n",
        "'''converter.optimizations = [tf.lite.Optimize.DEFAULT]\n",
        "\n",
        "def representative_data_gen():\n",
        "  for input_value, _ in test_batches.take(80):\n",
        "    yield [input_value]\n",
        "\n",
        "converter.representative_dataset = representative_data_gen\n",
        "converter.target_spec.supported_ops = [tf.lite.OpsSet.TFLITE_BUILTINS_INT8]\n",
        "'''\n",
        "\n",
        "tflite_model = converter.convert()    # Convert the model to a tensorflow lite model\n",
        "\n",
        "# Create the path to save the model\n",
        "tflite_models_dir = pathlib.Path(\"/tmp/\")\n",
        "tflite_model_file = tflite_models_dir/'model1.tflite'\n",
        "\n",
        "# Write bytes\n",
        "tflite_model_file.write_bytes(tflite_model)"
      ],
      "execution_count": 9,
      "outputs": [
        {
          "output_type": "execute_result",
          "data": {
            "text/plain": [
              "475300"
            ]
          },
          "metadata": {
            "tags": []
          },
          "execution_count": 9
        }
      ]
    }
  ]
}